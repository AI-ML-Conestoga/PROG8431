{
 "cells": [
  {
   "cell_type": "markdown",
   "id": "575b24d9",
   "metadata": {},
   "source": [
    "#### Adding imports"
   ]
  },
  {
   "cell_type": "code",
   "execution_count": null,
   "id": "44e65a58",
   "metadata": {},
   "outputs": [],
   "source": [
    "import pandas as pd\n",
    "import numpy as np\n",
    "import matplotlib.pyplot as plt\n",
    "import seaborn as sns\n",
    "from matplotlib_venn import venn2"
   ]
  },
  {
   "cell_type": "markdown",
   "id": "93d0e0d4",
   "metadata": {},
   "source": [
    "#### variables"
   ]
  },
  {
   "cell_type": "code",
   "execution_count": null,
   "id": "e2d8bb02",
   "metadata": {},
   "outputs": [],
   "source": [
    "excludedColumns = ['education_id', 'occupation_id','marital_id']\n",
    "excludedColumnsMode = ['capital-gain','capital-loss']"
   ]
  },
  {
   "cell_type": "markdown",
   "id": "f2232401",
   "metadata": {},
   "source": [
    "#### Read the adult.data file and add column names to that based on adult.names"
   ]
  },
  {
   "cell_type": "code",
   "execution_count": null,
   "id": "573f64a5",
   "metadata": {},
   "outputs": [],
   "source": [
    "df = pd.read_csv('./data/adult.data', header=None, sep=\",\")\n",
    "df.columns = [\"age\", \"workclass\", \"fnlwgt\", \"education\", \"education-num\",\"marital-status\", \"occupation\", \"relationship\", \"race\", \"sex\",\"capital-gain\", \"capital-loss\", \"hours-per-week\", \"native-country\", \"income\"]\n",
    "df.to_csv('./csv/temp_data.csv', index=False)"
   ]
  },
  {
   "cell_type": "markdown",
   "id": "1eb2b466",
   "metadata": {},
   "source": [
    "#### Drop the fnlwgt column"
   ]
  },
  {
   "cell_type": "code",
   "execution_count": null,
   "id": "f9e10a85",
   "metadata": {},
   "outputs": [],
   "source": [
    "df = df.drop(columns=[\"fnlwgt\"])"
   ]
  },
  {
   "cell_type": "markdown",
   "id": "b67736a0",
   "metadata": {},
   "source": [
    "####  Normalize education and education-num and convert to csv format"
   ]
  },
  {
   "cell_type": "code",
   "execution_count": null,
   "id": "c7ec5600",
   "metadata": {},
   "outputs": [],
   "source": [
    "education_map = df[[\"education\", \"education-num\"]].drop_duplicates().reset_index(drop=True)\n",
    "print(education_map, type(education_map))\n",
    "education_map[\"education_id\"] = education_map.index + 1\n",
    "education_map.to_csv(\"./csv/education.csv\", index=False)"
   ]
  },
  {
   "cell_type": "markdown",
   "id": "8bf5939c",
   "metadata": {},
   "source": [
    "### Merge the education_id to final_data.csv"
   ]
  },
  {
   "cell_type": "code",
   "execution_count": null,
   "id": "abac0dc0",
   "metadata": {},
   "outputs": [],
   "source": [
    "df = df.merge(education_map, on=[\"education\", \"education-num\"], how=\"left\")\n",
    "df = df.drop(columns=[\"education\", \"education-num\"])\n",
    "print(df.head())"
   ]
  },
  {
   "cell_type": "markdown",
   "id": "9d5dfd5d",
   "metadata": {},
   "source": [
    "####  Normalize marital status and convert into the csv file"
   ]
  },
  {
   "cell_type": "code",
   "execution_count": null,
   "id": "995b7136",
   "metadata": {},
   "outputs": [],
   "source": [
    "martial_map = pd.DataFrame(df[\"marital-status\"].drop_duplicates().reset_index(drop=True))\n",
    "#print(martial_map, type(martial_map))\n",
    "martial_map[\"marital_id\"] = martial_map.index + 1\n",
    "#print(martial_map)\n",
    "martial_map.to_csv(\"./csv/marital_status.csv\", index=False)"
   ]
  },
  {
   "cell_type": "markdown",
   "id": "0c0c9bbd",
   "metadata": {},
   "source": [
    "#### Merge the marital_id to the final_data.csv"
   ]
  },
  {
   "cell_type": "code",
   "execution_count": null,
   "id": "9ebcca99",
   "metadata": {},
   "outputs": [],
   "source": [
    "df = df.merge(martial_map,on=[\"marital-status\"], how=\"left\")\n",
    "df = df.drop(columns=[\"marital-status\"])"
   ]
  },
  {
   "cell_type": "markdown",
   "id": "80f13a7d",
   "metadata": {},
   "source": [
    "#### Normalize occupation"
   ]
  },
  {
   "cell_type": "code",
   "execution_count": null,
   "id": "f03a340d",
   "metadata": {},
   "outputs": [],
   "source": [
    "occupation_map = pd.DataFrame(df[\"occupation\"].drop_duplicates().reset_index(drop=True))\n",
    "occupation_map[\"occupation_id\"] = occupation_map.index + 1\n",
    "occupation_map.to_csv(\"./csv/occupation.csv\", index=False)"
   ]
  },
  {
   "cell_type": "markdown",
   "id": "fe6d887c",
   "metadata": {},
   "source": [
    "#### Merge the occupation_id to the final_data.csv"
   ]
  },
  {
   "cell_type": "code",
   "execution_count": null,
   "id": "f302d503",
   "metadata": {},
   "outputs": [],
   "source": [
    "df = df.merge(occupation_map, on=[\"occupation\"], how=\"left\")\n",
    "df = df.drop(columns=[\"occupation\"])"
   ]
  },
  {
   "cell_type": "markdown",
   "id": "00f5af93",
   "metadata": {},
   "source": [
    "#### Re-ordering income as the last column"
   ]
  },
  {
   "cell_type": "code",
   "execution_count": null,
   "id": "d8f6232a",
   "metadata": {},
   "outputs": [],
   "source": [
    "income_column = df.pop(\"income\")\n",
    "df[\"income\"] = income_column"
   ]
  },
  {
   "cell_type": "markdown",
   "id": "32724839",
   "metadata": {},
   "source": [
    "#### Check if the dataset has missing values\n",
    "    -  if 0, then there is no missing values"
   ]
  },
  {
   "cell_type": "code",
   "execution_count": null,
   "id": "2ad41300",
   "metadata": {},
   "outputs": [],
   "source": [
    "print(df.isnull().sum())"
   ]
  },
  {
   "cell_type": "markdown",
   "id": "888a1a13",
   "metadata": {},
   "source": [
    "#### Check if the dataset contains ? values\n",
    "    - if there, convert to nan"
   ]
  },
  {
   "cell_type": "code",
   "execution_count": null,
   "id": "94f80db2",
   "metadata": {},
   "outputs": [],
   "source": [
    "\n",
    "print(df.map(lambda x: str(x).strip() == '?').sum())\n",
    "\n",
    "df = df.map(lambda x: 'NaN' if str(x).strip() == \"?\" else x)"
   ]
  },
  {
   "cell_type": "markdown",
   "id": "22aab702",
   "metadata": {},
   "source": [
    "#### Check if the dataset contains ' ' values\n",
    "- if there, convert to nan"
   ]
  },
  {
   "cell_type": "code",
   "execution_count": null,
   "id": "eff88d54",
   "metadata": {},
   "outputs": [],
   "source": [
    "print(df.map(lambda x: str(x).strip() == ' ').sum())\n",
    "df = df.map(lambda x: \"NaN\" if str(x).strip() == ' ' else x)"
   ]
  },
  {
   "cell_type": "markdown",
   "id": "c67c6371",
   "metadata": {},
   "source": [
    "#### Convert the cleaned data into csv "
   ]
  },
  {
   "cell_type": "code",
   "execution_count": null,
   "id": "061bac2e",
   "metadata": {},
   "outputs": [],
   "source": [
    "df.to_csv('./csv/final_data.csv', index=False)\n",
    "print(df.head())"
   ]
  },
  {
   "cell_type": "code",
   "execution_count": null,
   "id": "b910677c",
   "metadata": {},
   "outputs": [],
   "source": [
    "#Calculate the mean, median and mode\n",
    "print(\"Mean:\\n\", df.drop(columns=excludedColumns).mean(numeric_only=True))\n",
    "print(\"Medians:\\n\", df.drop(columns=excludedColumns).median(numeric_only=True))\n",
    "print(\"Mode:\\n\", df.drop(columns=excludedColumnsMode).mode(numeric_only=True))\n",
    "\n",
    "# Calculate the variance\n",
    "print(\"Variance:\\n\", df.var(numeric_only=True))\n",
    "\n",
    "# Calculate the Standard Deviation\n",
    "print(\"\\nStandard Deviation:\\n\", df.std(numeric_only=True))\n",
    "\n",
    "# Quartiles\n",
    "print(\"Quartiles:\\n\", df.quantile([0.25, 0.5, 0.75], numeric_only=True))"
   ]
  },
  {
   "cell_type": "code",
   "execution_count": null,
   "id": "6ee85388",
   "metadata": {},
   "outputs": [],
   "source": [
    "# Scatter plot: Age vs Hours-per-week\n",
    "plt.figure(figsize=(6,4))\n",
    "sns.scatterplot(x='age', y='hours-per-week', hue='income', data=df)\n",
    "plt.title('Age vs Hours-per-week')\n",
    "plt.show()"
   ]
  },
  {
   "cell_type": "code",
   "execution_count": null,
   "id": "758707f4",
   "metadata": {},
   "outputs": [],
   "source": [
    "# Histogram: Age distribution\n",
    "plt.figure(figsize=(6,4))\n",
    "df['age'].hist(bins=15)\n",
    "plt.title('Age Distribution')\n",
    "plt.xlabel('Age')\n",
    "plt.ylabel('Frequency')\n",
    "plt.show()"
   ]
  },
  {
   "cell_type": "code",
   "execution_count": null,
   "id": "56a49eb1",
   "metadata": {},
   "outputs": [],
   "source": [
    "# Box-Whisker plot: Capital-gain\n",
    "plt.figure(figsize=(6,4))\n",
    "sns.boxplot(x='income', y='capital-gain', data=df)\n",
    "plt.title('Capital Gain Distribution by Income Group')\n",
    "plt.show()"
   ]
  },
  {
   "cell_type": "code",
   "execution_count": null,
   "id": "595c303e",
   "metadata": {},
   "outputs": [],
   "source": [
    "# Example: Set of people with capital gain > 0 vs hours-per-week > 40\n",
    "set1 = set(df[df['capital-gain'] > 0].index)\n",
    "set2 = set(df[df['hours-per-week'] > 40].index)\n",
    "\n",
    "plt.figure(figsize=(6,4))\n",
    "venn2([set1, set2], set_labels=('Capital Gain > 0', 'Hours/Week > 40'))\n",
    "plt.title('Venn Diagram Example')\n",
    "plt.show()"
   ]
  },
  {
   "cell_type": "code",
   "execution_count": null,
   "id": "f9c2776a",
   "metadata": {},
   "outputs": [],
   "source": [
    "# Basic numerical summary\n",
    "print(df.describe(include='all'))\n"
   ]
  }
 ],
 "metadata": {
  "kernelspec": {
   "display_name": "probAlWsh",
   "language": "python",
   "name": "python3"
  },
  "language_info": {
   "codemirror_mode": {
    "name": "ipython",
    "version": 3
   },
   "file_extension": ".py",
   "mimetype": "text/x-python",
   "name": "python",
   "nbconvert_exporter": "python",
   "pygments_lexer": "ipython3",
   "version": "3.13.3"
  }
 },
 "nbformat": 4,
 "nbformat_minor": 5
}
