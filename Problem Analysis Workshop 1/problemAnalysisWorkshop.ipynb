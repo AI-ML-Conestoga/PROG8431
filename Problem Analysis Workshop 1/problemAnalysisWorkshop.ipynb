{
 "cells": [
  {
   "cell_type": "markdown",
   "id": "575b24d9",
   "metadata": {},
   "source": [
    "### Adding imports"
   ]
  },
  {
   "cell_type": "code",
   "execution_count": 8,
   "id": "44e65a58",
   "metadata": {},
   "outputs": [],
   "source": [
    "import pandas as pd"
   ]
  },
  {
   "cell_type": "code",
   "execution_count": 9,
   "id": "573f64a5",
   "metadata": {},
   "outputs": [],
   "source": [
    "df = pd.read_csv('./data/adult.data', header=None, sep=\",\")\n",
    "df.columns = [\"age\", \"workclass\", \"fnlwgt\", \"education\", \"education-num\",\"marital-status\", \"occupation\", \"relationship\", \"race\", \"sex\",\"capital-gain\", \"capital-loss\", \"hours-per-week\", \"native-country\", \"income\"]"
   ]
  },
  {
   "cell_type": "markdown",
   "id": "1eb2b466",
   "metadata": {},
   "source": [
    "### Drop the fnlwgt column"
   ]
  },
  {
   "cell_type": "code",
   "execution_count": 10,
   "id": "f9e10a85",
   "metadata": {},
   "outputs": [],
   "source": [
    "df = df.drop(columns=[\"fnlwgt\"])"
   ]
  },
  {
   "cell_type": "markdown",
   "id": "b67736a0",
   "metadata": {},
   "source": [
    "###  Normalize education and education-num and convert to csv format"
   ]
  },
  {
   "cell_type": "code",
   "execution_count": 11,
   "id": "c7ec5600",
   "metadata": {},
   "outputs": [],
   "source": [
    "education_map = df[[\"education\", \"education-num\"]].drop_duplicates().reset_index(drop=True)\n",
    "education_map[\"education_id\"] = education_map.index + 1\n",
    "education_map.to_csv(\"education.csv\", index=False)"
   ]
  },
  {
   "cell_type": "markdown",
   "id": "8bf5939c",
   "metadata": {},
   "source": [
    "### merge the education_id to final_data.csv"
   ]
  },
  {
   "cell_type": "code",
   "execution_count": 12,
   "id": "abac0dc0",
   "metadata": {},
   "outputs": [
    {
     "name": "stdout",
     "output_type": "stream",
     "text": [
      "   age          workclass       marital-status          occupation  \\\n",
      "0   39          State-gov        Never-married        Adm-clerical   \n",
      "1   50   Self-emp-not-inc   Married-civ-spouse     Exec-managerial   \n",
      "2   38            Private             Divorced   Handlers-cleaners   \n",
      "3   53            Private   Married-civ-spouse   Handlers-cleaners   \n",
      "4   28            Private   Married-civ-spouse      Prof-specialty   \n",
      "\n",
      "     relationship    race      sex  capital-gain  capital-loss  \\\n",
      "0   Not-in-family   White     Male          2174             0   \n",
      "1         Husband   White     Male             0             0   \n",
      "2   Not-in-family   White     Male             0             0   \n",
      "3         Husband   Black     Male             0             0   \n",
      "4            Wife   Black   Female             0             0   \n",
      "\n",
      "   hours-per-week  native-country  income  education_id  \n",
      "0              40   United-States   <=50K             1  \n",
      "1              13   United-States   <=50K             1  \n",
      "2              40   United-States   <=50K             2  \n",
      "3              40   United-States   <=50K             3  \n",
      "4              40            Cuba   <=50K             1  \n"
     ]
    }
   ],
   "source": [
    "df = df.merge(education_map, on=[\"education\", \"education-num\"], how=\"left\")\n",
    "df = df.drop(columns=[\"education\", \"education-num\"])\n",
    "print(df.head())"
   ]
  },
  {
   "cell_type": "markdown",
   "id": "9d5dfd5d",
   "metadata": {},
   "source": [
    "###  Normalize marital status"
   ]
  },
  {
   "cell_type": "code",
   "execution_count": 13,
   "id": "995b7136",
   "metadata": {},
   "outputs": [],
   "source": [
    "martial_map = df[\"marital-status\"].drop_duplicates().reset_index(drop=True)\n",
    "martial_map[\"marital_id\"] = martial_map.index + 1"
   ]
  },
  {
   "cell_type": "markdown",
   "id": "0c0c9bbd",
   "metadata": {},
   "source": [
    "### Merge the marital_id to the final_data.csv"
   ]
  },
  {
   "cell_type": "code",
   "execution_count": null,
   "id": "9ebcca99",
   "metadata": {},
   "outputs": [],
   "source": []
  },
  {
   "cell_type": "markdown",
   "id": "80f13a7d",
   "metadata": {},
   "source": [
    "### Normalize occupation"
   ]
  },
  {
   "cell_type": "code",
   "execution_count": null,
   "id": "f03a340d",
   "metadata": {},
   "outputs": [],
   "source": []
  },
  {
   "cell_type": "markdown",
   "id": "4f2eef11",
   "metadata": {},
   "source": [
    "### Converting the final data to csv format"
   ]
  },
  {
   "cell_type": "code",
   "execution_count": 14,
   "id": "54057d1e",
   "metadata": {},
   "outputs": [
    {
     "name": "stdout",
     "output_type": "stream",
     "text": [
      "   age          workclass       marital-status          occupation  \\\n",
      "0   39          State-gov        Never-married        Adm-clerical   \n",
      "1   50   Self-emp-not-inc   Married-civ-spouse     Exec-managerial   \n",
      "2   38            Private             Divorced   Handlers-cleaners   \n",
      "3   53            Private   Married-civ-spouse   Handlers-cleaners   \n",
      "4   28            Private   Married-civ-spouse      Prof-specialty   \n",
      "\n",
      "     relationship    race      sex  capital-gain  capital-loss  \\\n",
      "0   Not-in-family   White     Male          2174             0   \n",
      "1         Husband   White     Male             0             0   \n",
      "2   Not-in-family   White     Male             0             0   \n",
      "3         Husband   Black     Male             0             0   \n",
      "4            Wife   Black   Female             0             0   \n",
      "\n",
      "   hours-per-week  native-country  income  education_id  \n",
      "0              40   United-States   <=50K             1  \n",
      "1              13   United-States   <=50K             1  \n",
      "2              40   United-States   <=50K             2  \n",
      "3              40   United-States   <=50K             3  \n",
      "4              40            Cuba   <=50K             1  \n"
     ]
    }
   ],
   "source": [
    "df.to_csv('final_data.csv', index=False)\n",
    "print(df.head())"
   ]
  }
 ],
 "metadata": {
  "kernelspec": {
   "display_name": "probAlWsh",
   "language": "python",
   "name": "python3"
  },
  "language_info": {
   "codemirror_mode": {
    "name": "ipython",
    "version": 3
   },
   "file_extension": ".py",
   "mimetype": "text/x-python",
   "name": "python",
   "nbconvert_exporter": "python",
   "pygments_lexer": "ipython3",
   "version": "3.13.3"
  }
 },
 "nbformat": 4,
 "nbformat_minor": 5
}
